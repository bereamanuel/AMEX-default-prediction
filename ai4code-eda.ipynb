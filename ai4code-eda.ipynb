{
 "cells": [
  {
   "cell_type": "markdown",
   "id": "bcfd3a21",
   "metadata": {
    "papermill": {
     "duration": 0.012916,
     "end_time": "2022-05-15T18:02:10.593420",
     "exception": false,
     "start_time": "2022-05-15T18:02:10.580504",
     "status": "completed"
    },
    "tags": []
   },
   "source": [
    "# AI4Code"
   ]
  },
  {
   "cell_type": "markdown",
   "id": "2f148912",
   "metadata": {
    "papermill": {
     "duration": 0.01218,
     "end_time": "2022-05-15T18:02:10.618401",
     "exception": false,
     "start_time": "2022-05-15T18:02:10.606221",
     "status": "completed"
    },
    "tags": []
   },
   "source": [
    "## Libraries"
   ]
  },
  {
   "cell_type": "code",
   "execution_count": 1,
   "id": "80cbaace",
   "metadata": {
    "execution": {
     "iopub.execute_input": "2022-05-15T18:02:10.644178Z",
     "iopub.status.busy": "2022-05-15T18:02:10.643442Z",
     "iopub.status.idle": "2022-05-15T18:02:10.773958Z",
     "shell.execute_reply": "2022-05-15T18:02:10.773350Z"
    },
    "papermill": {
     "duration": 0.14551,
     "end_time": "2022-05-15T18:02:10.775914",
     "exception": false,
     "start_time": "2022-05-15T18:02:10.630404",
     "status": "completed"
    },
    "tags": []
   },
   "outputs": [],
   "source": [
    "# This Python 3 environment comes with many helpful analytics libraries installed\n",
    "# It is defined by the kaggle/python Docker image: https://github.com/kaggle/docker-python\n",
    "# For example, here's several helpful packages to load\n",
    "\n",
    "import numpy as np # linear algebra\n",
    "import pandas as pd # data processing, CSV file I/O (e.g. pd.read_csv)\n",
    "import time\n",
    "import math\n",
    "import json\n",
    "import warnings\n",
    "from tqdm.notebook import tqdm; tqdm.pandas();\n",
    "from glob import glob\n",
    "import re\n",
    "import os\n",
    "\n",
    "\n",
    "import matplotlib.pyplot as plt"
   ]
  },
  {
   "cell_type": "markdown",
   "id": "554d9a92",
   "metadata": {
    "papermill": {
     "duration": 0.011658,
     "end_time": "2022-05-15T18:02:10.799690",
     "exception": false,
     "start_time": "2022-05-15T18:02:10.788032",
     "status": "completed"
    },
    "tags": []
   },
   "source": [
    "## Load data"
   ]
  },
  {
   "cell_type": "code",
   "execution_count": 2,
   "id": "0cbf9e9d",
   "metadata": {
    "_cell_guid": "b1076dfc-b9ad-4769-8c92-a6c4dae69d19",
    "_uuid": "8f2839f25d086af736a60e9eeb907d3b93b6e0e5",
    "execution": {
     "iopub.execute_input": "2022-05-15T18:02:10.826343Z",
     "iopub.status.busy": "2022-05-15T18:02:10.825956Z",
     "iopub.status.idle": "2022-05-15T18:02:10.836568Z",
     "shell.execute_reply": "2022-05-15T18:02:10.836038Z"
    },
    "papermill": {
     "duration": 0.026852,
     "end_time": "2022-05-15T18:02:10.838992",
     "exception": false,
     "start_time": "2022-05-15T18:02:10.812140",
     "status": "completed"
    },
    "tags": []
   },
   "outputs": [
    {
     "name": "stdout",
     "output_type": "stream",
     "text": [
      "/kaggle/input/AI4Code/train_orders.csv\n",
      "/kaggle/input/AI4Code/sample_submission.csv\n",
      "/kaggle/input/AI4Code/train_ancestors.csv\n"
     ]
    }
   ],
   "source": [
    "# Input data files are available in the read-only \"../input/\" directory\n",
    "# For example, running this (by clicking run or pressing Shift+Enter) will list all files under the input directory\n",
    "paths = []\n",
    "n= len('/kaggle/input/AI4Code/') \n",
    "for dirname, _, filenames in os.walk('/kaggle/input/AI4Code/'):\n",
    "    \n",
    "    #I don't want save train/test folders\n",
    "    if len(dirname) == n: \n",
    "        for filename in filenames:\n",
    "            print(os.path.join(dirname, filename))\n",
    "            paths.append(os.path.join(dirname, filename))\n",
    "    else:\n",
    "        break\n",
    "\n",
    "# You can write up to 20GB to the current directory (/kaggle/working/) that gets preserved as output when you create a version using \"Save & Run All\" \n",
    "# You can also write temporary files to /kaggle/temp/, but they won't be saved outside of the current session"
   ]
  },
  {
   "cell_type": "code",
   "execution_count": 3,
   "id": "1e184de7",
   "metadata": {
    "execution": {
     "iopub.execute_input": "2022-05-15T18:02:10.879234Z",
     "iopub.status.busy": "2022-05-15T18:02:10.878988Z",
     "iopub.status.idle": "2022-05-15T18:02:12.457518Z",
     "shell.execute_reply": "2022-05-15T18:02:12.456655Z"
    },
    "papermill": {
     "duration": 1.600721,
     "end_time": "2022-05-15T18:02:12.459491",
     "exception": false,
     "start_time": "2022-05-15T18:02:10.858770",
     "status": "completed"
    },
    "tags": []
   },
   "outputs": [],
   "source": [
    "tOrd = pd.read_csv(paths[0])\n",
    "tAnt = pd.read_csv(paths[2])"
   ]
  },
  {
   "cell_type": "code",
   "execution_count": 4,
   "id": "699db37e",
   "metadata": {
    "execution": {
     "iopub.execute_input": "2022-05-15T18:02:12.486013Z",
     "iopub.status.busy": "2022-05-15T18:02:12.485717Z",
     "iopub.status.idle": "2022-05-15T18:02:12.490835Z",
     "shell.execute_reply": "2022-05-15T18:02:12.489660Z"
    },
    "papermill": {
     "duration": 0.020018,
     "end_time": "2022-05-15T18:02:12.492347",
     "exception": false,
     "start_time": "2022-05-15T18:02:12.472329",
     "status": "completed"
    },
    "tags": []
   },
   "outputs": [],
   "source": [
    "def splitB(string=\" \", spl = \" \"):\n",
    "    \"\"\"\n",
    "    For split by an element, blank space by default\n",
    "    Example: splitB(\"Hello World!\" , splt= \" \") -> [\"Hello\", \"World!\"]\n",
    "    \"\"\"\n",
    "    return string.split(spl)"
   ]
  },
  {
   "cell_type": "markdown",
   "id": "976a5ef9",
   "metadata": {
    "papermill": {
     "duration": 0.012143,
     "end_time": "2022-05-15T18:02:12.516555",
     "exception": false,
     "start_time": "2022-05-15T18:02:12.504412",
     "status": "completed"
    },
    "tags": []
   },
   "source": [
    "### Train orders"
   ]
  },
  {
   "cell_type": "markdown",
   "id": "1c2894e2",
   "metadata": {
    "papermill": {
     "duration": 0.011916,
     "end_time": "2022-05-15T18:02:12.540993",
     "exception": false,
     "start_time": "2022-05-15T18:02:12.529077",
     "status": "completed"
    },
    "tags": []
   },
   "source": [
    "Explode id orders"
   ]
  },
  {
   "cell_type": "code",
   "execution_count": 5,
   "id": "db37b17e",
   "metadata": {
    "execution": {
     "iopub.execute_input": "2022-05-15T18:02:12.569255Z",
     "iopub.status.busy": "2022-05-15T18:02:12.568460Z",
     "iopub.status.idle": "2022-05-15T18:02:15.081267Z",
     "shell.execute_reply": "2022-05-15T18:02:15.080425Z"
    },
    "papermill": {
     "duration": 2.529098,
     "end_time": "2022-05-15T18:02:15.083292",
     "exception": false,
     "start_time": "2022-05-15T18:02:12.554194",
     "status": "completed"
    },
    "tags": []
   },
   "outputs": [],
   "source": [
    "tOrd[\"cell_order\"] = tOrd[\"cell_order\"].apply(splitB)\n",
    "tOrd = tOrd.explode(\"cell_order\", ignore_index = True)"
   ]
  },
  {
   "cell_type": "markdown",
   "id": "b6971c21",
   "metadata": {
    "papermill": {
     "duration": 0.013311,
     "end_time": "2022-05-15T18:02:15.110242",
     "exception": false,
     "start_time": "2022-05-15T18:02:15.096931",
     "status": "completed"
    },
    "tags": []
   },
   "source": [
    "Enumerate id orders and set the size"
   ]
  },
  {
   "cell_type": "code",
   "execution_count": 6,
   "id": "89b33e92",
   "metadata": {
    "execution": {
     "iopub.execute_input": "2022-05-15T18:02:15.138719Z",
     "iopub.status.busy": "2022-05-15T18:02:15.138455Z",
     "iopub.status.idle": "2022-05-15T18:02:16.125223Z",
     "shell.execute_reply": "2022-05-15T18:02:16.124440Z"
    },
    "papermill": {
     "duration": 1.003621,
     "end_time": "2022-05-15T18:02:16.127177",
     "exception": false,
     "start_time": "2022-05-15T18:02:15.123556",
     "status": "completed"
    },
    "tags": []
   },
   "outputs": [],
   "source": [
    "sizes = tOrd.groupby('id', sort=False).size().values \n",
    "tOrd['enumCol'] = np.arange(sizes.sum()) - np.repeat(sizes.cumsum() - sizes, sizes)+1"
   ]
  },
  {
   "cell_type": "code",
   "execution_count": 7,
   "id": "dc6bd643",
   "metadata": {
    "execution": {
     "iopub.execute_input": "2022-05-15T18:02:16.153553Z",
     "iopub.status.busy": "2022-05-15T18:02:16.153281Z",
     "iopub.status.idle": "2022-05-15T18:02:18.675043Z",
     "shell.execute_reply": "2022-05-15T18:02:18.674220Z"
    },
    "papermill": {
     "duration": 2.537788,
     "end_time": "2022-05-15T18:02:18.677363",
     "exception": false,
     "start_time": "2022-05-15T18:02:16.139575",
     "status": "completed"
    },
    "tags": []
   },
   "outputs": [],
   "source": [
    "sizesDF = pd.DataFrame(tOrd.groupby(\"id\").size(), columns = [\"sizeId\"])\n",
    "tOrd = tOrd.set_index(\"id\").join( sizesDF , on = \"id\", how = \"left\", rsuffix = \"Id\").reset_index()"
   ]
  },
  {
   "cell_type": "code",
   "execution_count": 8,
   "id": "293465bf",
   "metadata": {
    "execution": {
     "iopub.execute_input": "2022-05-15T18:02:18.717365Z",
     "iopub.status.busy": "2022-05-15T18:02:18.717089Z",
     "iopub.status.idle": "2022-05-15T18:02:18.733207Z",
     "shell.execute_reply": "2022-05-15T18:02:18.732310Z"
    },
    "papermill": {
     "duration": 0.038937,
     "end_time": "2022-05-15T18:02:18.735537",
     "exception": false,
     "start_time": "2022-05-15T18:02:18.696600",
     "status": "completed"
    },
    "tags": []
   },
   "outputs": [
    {
     "data": {
      "text/html": [
       "<div>\n",
       "<style scoped>\n",
       "    .dataframe tbody tr th:only-of-type {\n",
       "        vertical-align: middle;\n",
       "    }\n",
       "\n",
       "    .dataframe tbody tr th {\n",
       "        vertical-align: top;\n",
       "    }\n",
       "\n",
       "    .dataframe thead th {\n",
       "        text-align: right;\n",
       "    }\n",
       "</style>\n",
       "<table border=\"1\" class=\"dataframe\">\n",
       "  <thead>\n",
       "    <tr style=\"text-align: right;\">\n",
       "      <th></th>\n",
       "      <th>id</th>\n",
       "      <th>cell_order</th>\n",
       "      <th>enumCol</th>\n",
       "      <th>sizeId</th>\n",
       "    </tr>\n",
       "  </thead>\n",
       "  <tbody>\n",
       "    <tr>\n",
       "      <th>0</th>\n",
       "      <td>00001756c60be8</td>\n",
       "      <td>1862f0a6</td>\n",
       "      <td>1</td>\n",
       "      <td>58</td>\n",
       "    </tr>\n",
       "    <tr>\n",
       "      <th>1</th>\n",
       "      <td>00001756c60be8</td>\n",
       "      <td>448eb224</td>\n",
       "      <td>2</td>\n",
       "      <td>58</td>\n",
       "    </tr>\n",
       "    <tr>\n",
       "      <th>2</th>\n",
       "      <td>00001756c60be8</td>\n",
       "      <td>2a9e43d6</td>\n",
       "      <td>3</td>\n",
       "      <td>58</td>\n",
       "    </tr>\n",
       "    <tr>\n",
       "      <th>3</th>\n",
       "      <td>00001756c60be8</td>\n",
       "      <td>7e2f170a</td>\n",
       "      <td>4</td>\n",
       "      <td>58</td>\n",
       "    </tr>\n",
       "    <tr>\n",
       "      <th>4</th>\n",
       "      <td>00001756c60be8</td>\n",
       "      <td>038b763d</td>\n",
       "      <td>5</td>\n",
       "      <td>58</td>\n",
       "    </tr>\n",
       "  </tbody>\n",
       "</table>\n",
       "</div>"
      ],
      "text/plain": [
       "               id cell_order  enumCol  sizeId\n",
       "0  00001756c60be8   1862f0a6        1      58\n",
       "1  00001756c60be8   448eb224        2      58\n",
       "2  00001756c60be8   2a9e43d6        3      58\n",
       "3  00001756c60be8   7e2f170a        4      58\n",
       "4  00001756c60be8   038b763d        5      58"
      ]
     },
     "execution_count": 8,
     "metadata": {},
     "output_type": "execute_result"
    }
   ],
   "source": [
    "tOrd.head()"
   ]
  },
  {
   "cell_type": "code",
   "execution_count": 9,
   "id": "38112347",
   "metadata": {
    "execution": {
     "iopub.execute_input": "2022-05-15T18:02:18.777463Z",
     "iopub.status.busy": "2022-05-15T18:02:18.776640Z",
     "iopub.status.idle": "2022-05-15T18:02:18.781305Z",
     "shell.execute_reply": "2022-05-15T18:02:18.780745Z"
    },
    "papermill": {
     "duration": 0.027009,
     "end_time": "2022-05-15T18:02:18.782634",
     "exception": false,
     "start_time": "2022-05-15T18:02:18.755625",
     "status": "completed"
    },
    "tags": []
   },
   "outputs": [],
   "source": [
    "def loadJson(path):\n",
    "    import pandas as pd\n",
    "    tmpDf = pd.read_json(path, dtype={'cell_type': 'category', 'source': 'str'}).reset_index().rename({\"index\":\"cell_order\"}, axis=1)\n",
    "    tmpDf[\"id\"] = path.rsplit(\".\", 1)[0].rsplit(\"/\", 1)[-1]\n",
    "    return tmpDf"
   ]
  },
  {
   "cell_type": "code",
   "execution_count": 10,
   "id": "a53b6568",
   "metadata": {
    "execution": {
     "iopub.execute_input": "2022-05-15T18:02:18.810196Z",
     "iopub.status.busy": "2022-05-15T18:02:18.809596Z",
     "iopub.status.idle": "2022-05-15T18:02:21.351228Z",
     "shell.execute_reply": "2022-05-15T18:02:21.350405Z"
    },
    "papermill": {
     "duration": 2.55726,
     "end_time": "2022-05-15T18:02:21.353105",
     "exception": false,
     "start_time": "2022-05-15T18:02:18.795845",
     "status": "completed"
    },
    "tags": []
   },
   "outputs": [],
   "source": [
    "pathJson = glob(os.path.join(\"/kaggle/input/AI4Code/train\", \"*.json\"), recursive=True)"
   ]
  },
  {
   "cell_type": "code",
   "execution_count": 11,
   "id": "143d6c08",
   "metadata": {
    "execution": {
     "iopub.execute_input": "2022-05-15T18:02:21.380221Z",
     "iopub.status.busy": "2022-05-15T18:02:21.380013Z",
     "iopub.status.idle": "2022-05-15T18:02:21.384072Z",
     "shell.execute_reply": "2022-05-15T18:02:21.383105Z"
    },
    "papermill": {
     "duration": 0.019347,
     "end_time": "2022-05-15T18:02:21.385552",
     "exception": false,
     "start_time": "2022-05-15T18:02:21.366205",
     "status": "completed"
    },
    "tags": []
   },
   "outputs": [],
   "source": [
    "#dfJsons = loadJson(pathJson[0])\n",
    "\n",
    "#for path in tqdm(pathJson[1:]):\n",
    "#    dfJsons = dfJsons.append(loadJson(path), ignore_index=True)"
   ]
  }
 ],
 "metadata": {
  "kernelspec": {
   "display_name": "Python 3",
   "language": "python",
   "name": "python3"
  },
  "language_info": {
   "codemirror_mode": {
    "name": "ipython",
    "version": 3
   },
   "file_extension": ".py",
   "mimetype": "text/x-python",
   "name": "python",
   "nbconvert_exporter": "python",
   "pygments_lexer": "ipython3",
   "version": "3.7.12"
  },
  "papermill": {
   "default_parameters": {},
   "duration": 22.534583,
   "end_time": "2022-05-15T18:02:22.420934",
   "environment_variables": {},
   "exception": null,
   "input_path": "__notebook__.ipynb",
   "output_path": "__notebook__.ipynb",
   "parameters": {},
   "start_time": "2022-05-15T18:01:59.886351",
   "version": "2.3.4"
  }
 },
 "nbformat": 4,
 "nbformat_minor": 5
}
