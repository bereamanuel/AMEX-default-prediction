{
 "cells": [
  {
   "cell_type": "markdown",
   "id": "f8bab0d3",
   "metadata": {
    "papermill": {
     "duration": 0.010002,
     "end_time": "2022-05-15T08:40:54.774441",
     "exception": false,
     "start_time": "2022-05-15T08:40:54.764439",
     "status": "completed"
    },
    "tags": []
   },
   "source": [
    "# AI4Code"
   ]
  },
  {
   "cell_type": "markdown",
   "id": "f6f1ccd4",
   "metadata": {
    "papermill": {
     "duration": 0.008487,
     "end_time": "2022-05-15T08:40:54.791940",
     "exception": false,
     "start_time": "2022-05-15T08:40:54.783453",
     "status": "completed"
    },
    "tags": []
   },
   "source": [
    "## Libraries"
   ]
  },
  {
   "cell_type": "code",
   "execution_count": 1,
   "id": "9ec10b79",
   "metadata": {
    "execution": {
     "iopub.execute_input": "2022-05-15T08:40:54.811427Z",
     "iopub.status.busy": "2022-05-15T08:40:54.810576Z",
     "iopub.status.idle": "2022-05-15T08:40:54.821751Z",
     "shell.execute_reply": "2022-05-15T08:40:54.821028Z"
    },
    "papermill": {
     "duration": 0.023472,
     "end_time": "2022-05-15T08:40:54.823981",
     "exception": false,
     "start_time": "2022-05-15T08:40:54.800509",
     "status": "completed"
    },
    "tags": []
   },
   "outputs": [],
   "source": [
    "# This Python 3 environment comes with many helpful analytics libraries installed\n",
    "# It is defined by the kaggle/python Docker image: https://github.com/kaggle/docker-python\n",
    "# For example, here's several helpful packages to load\n",
    "\n",
    "import numpy as np # linear algebra\n",
    "import pandas as pd # data processing, CSV file I/O (e.g. pd.read_csv)\n",
    "\n",
    "\n",
    "import matplotlib.pyplot as plt"
   ]
  },
  {
   "cell_type": "markdown",
   "id": "40590a55",
   "metadata": {
    "papermill": {
     "duration": 0.008656,
     "end_time": "2022-05-15T08:40:54.841454",
     "exception": false,
     "start_time": "2022-05-15T08:40:54.832798",
     "status": "completed"
    },
    "tags": []
   },
   "source": [
    "## Load data"
   ]
  },
  {
   "cell_type": "code",
   "execution_count": 2,
   "id": "e39d0803",
   "metadata": {
    "_cell_guid": "b1076dfc-b9ad-4769-8c92-a6c4dae69d19",
    "_uuid": "8f2839f25d086af736a60e9eeb907d3b93b6e0e5",
    "execution": {
     "iopub.execute_input": "2022-05-15T08:40:54.860712Z",
     "iopub.status.busy": "2022-05-15T08:40:54.860448Z",
     "iopub.status.idle": "2022-05-15T08:40:54.870199Z",
     "shell.execute_reply": "2022-05-15T08:40:54.869475Z"
    },
    "papermill": {
     "duration": 0.021999,
     "end_time": "2022-05-15T08:40:54.872361",
     "exception": false,
     "start_time": "2022-05-15T08:40:54.850362",
     "status": "completed"
    },
    "tags": []
   },
   "outputs": [
    {
     "name": "stdout",
     "output_type": "stream",
     "text": [
      "/kaggle/input/AI4Code/train_orders.csv\n",
      "/kaggle/input/AI4Code/sample_submission.csv\n",
      "/kaggle/input/AI4Code/train_ancestors.csv\n"
     ]
    }
   ],
   "source": [
    "# Input data files are available in the read-only \"../input/\" directory\n",
    "# For example, running this (by clicking run or pressing Shift+Enter) will list all files under the input directory\n",
    "\n",
    "import os\n",
    "paths = []\n",
    "n= len('/kaggle/input/AI4Code/') \n",
    "for dirname, _, filenames in os.walk('/kaggle/input/AI4Code/'):\n",
    "    \n",
    "    #I don't want save train/test folders\n",
    "    if len(dirname) == n: \n",
    "        for filename in filenames:\n",
    "            print(os.path.join(dirname, filename))\n",
    "            paths.append(os.path.join(dirname, filename))\n",
    "    else:\n",
    "        break\n",
    "\n",
    "# You can write up to 20GB to the current directory (/kaggle/working/) that gets preserved as output when you create a version using \"Save & Run All\" \n",
    "# You can also write temporary files to /kaggle/temp/, but they won't be saved outside of the current session"
   ]
  },
  {
   "cell_type": "code",
   "execution_count": 3,
   "id": "521eeef0",
   "metadata": {
    "execution": {
     "iopub.execute_input": "2022-05-15T08:40:54.893866Z",
     "iopub.status.busy": "2022-05-15T08:40:54.893477Z",
     "iopub.status.idle": "2022-05-15T08:40:56.504437Z",
     "shell.execute_reply": "2022-05-15T08:40:56.503549Z"
    },
    "papermill": {
     "duration": 1.623814,
     "end_time": "2022-05-15T08:40:56.506665",
     "exception": false,
     "start_time": "2022-05-15T08:40:54.882851",
     "status": "completed"
    },
    "tags": []
   },
   "outputs": [],
   "source": [
    "tOrd = pd.read_csv(paths[0])\n",
    "tAnt = pd.read_csv(paths[2])"
   ]
  },
  {
   "cell_type": "code",
   "execution_count": 4,
   "id": "d7ad3627",
   "metadata": {
    "execution": {
     "iopub.execute_input": "2022-05-15T08:40:56.543804Z",
     "iopub.status.busy": "2022-05-15T08:40:56.543240Z",
     "iopub.status.idle": "2022-05-15T08:40:56.547432Z",
     "shell.execute_reply": "2022-05-15T08:40:56.546861Z"
    },
    "papermill": {
     "duration": 0.024883,
     "end_time": "2022-05-15T08:40:56.549721",
     "exception": false,
     "start_time": "2022-05-15T08:40:56.524838",
     "status": "completed"
    },
    "tags": []
   },
   "outputs": [],
   "source": [
    "def splitB(string=\" \", spl = \" \"):\n",
    "    \"\"\"\n",
    "    For split by an element, blank space by default\n",
    "    Example: splitB(\"Hello World!\" , splt= \" \") -> [\"Hello\", \"World!\"]\n",
    "    \"\"\"\n",
    "    return string.split(spl)"
   ]
  },
  {
   "cell_type": "markdown",
   "id": "dc4b4f60",
   "metadata": {
    "papermill": {
     "duration": 0.008982,
     "end_time": "2022-05-15T08:40:56.572722",
     "exception": false,
     "start_time": "2022-05-15T08:40:56.563740",
     "status": "completed"
    },
    "tags": []
   },
   "source": [
    "### Train orders"
   ]
  },
  {
   "cell_type": "markdown",
   "id": "60c72963",
   "metadata": {
    "papermill": {
     "duration": 0.008767,
     "end_time": "2022-05-15T08:40:56.590530",
     "exception": false,
     "start_time": "2022-05-15T08:40:56.581763",
     "status": "completed"
    },
    "tags": []
   },
   "source": [
    "Explode id orders"
   ]
  },
  {
   "cell_type": "code",
   "execution_count": 5,
   "id": "80eebd2d",
   "metadata": {
    "execution": {
     "iopub.execute_input": "2022-05-15T08:40:56.610828Z",
     "iopub.status.busy": "2022-05-15T08:40:56.610161Z",
     "iopub.status.idle": "2022-05-15T08:40:59.097180Z",
     "shell.execute_reply": "2022-05-15T08:40:59.096378Z"
    },
    "papermill": {
     "duration": 2.499904,
     "end_time": "2022-05-15T08:40:59.099459",
     "exception": false,
     "start_time": "2022-05-15T08:40:56.599555",
     "status": "completed"
    },
    "tags": []
   },
   "outputs": [],
   "source": [
    "tOrd[\"cell_order\"] = tOrd[\"cell_order\"].apply(splitB)\n",
    "tOrd = tOrd.explode(\"cell_order\", ignore_index = True)"
   ]
  },
  {
   "cell_type": "markdown",
   "id": "ec292c6a",
   "metadata": {
    "papermill": {
     "duration": 0.008706,
     "end_time": "2022-05-15T08:40:59.117209",
     "exception": false,
     "start_time": "2022-05-15T08:40:59.108503",
     "status": "completed"
    },
    "tags": []
   },
   "source": [
    "Enumerate id orders"
   ]
  },
  {
   "cell_type": "code",
   "execution_count": 6,
   "id": "d805c474",
   "metadata": {
    "execution": {
     "iopub.execute_input": "2022-05-15T08:40:59.136786Z",
     "iopub.status.busy": "2022-05-15T08:40:59.136173Z",
     "iopub.status.idle": "2022-05-15T08:40:59.799845Z",
     "shell.execute_reply": "2022-05-15T08:40:59.798905Z"
    },
    "papermill": {
     "duration": 0.676434,
     "end_time": "2022-05-15T08:40:59.802647",
     "exception": false,
     "start_time": "2022-05-15T08:40:59.126213",
     "status": "completed"
    },
    "tags": []
   },
   "outputs": [],
   "source": [
    "sizes = tOrd.groupby('id', sort=False).size().values\n",
    "tOrd['enumCol'] = np.arange(sizes.sum()) - np.repeat(sizes.cumsum() - sizes, sizes)"
   ]
  },
  {
   "cell_type": "code",
   "execution_count": 7,
   "id": "24767c0b",
   "metadata": {
    "execution": {
     "iopub.execute_input": "2022-05-15T08:40:59.824604Z",
     "iopub.status.busy": "2022-05-15T08:40:59.824015Z",
     "iopub.status.idle": "2022-05-15T08:40:59.828101Z",
     "shell.execute_reply": "2022-05-15T08:40:59.827454Z"
    },
    "papermill": {
     "duration": 0.016916,
     "end_time": "2022-05-15T08:40:59.829892",
     "exception": false,
     "start_time": "2022-05-15T08:40:59.812976",
     "status": "completed"
    },
    "tags": []
   },
   "outputs": [],
   "source": [
    "#tOrd.join(tOrd.groupby(\"id\").size().reset_index() , on = \"id\", how = \"left\")"
   ]
  }
 ],
 "metadata": {
  "kernelspec": {
   "display_name": "Python 3",
   "language": "python",
   "name": "python3"
  },
  "language_info": {
   "codemirror_mode": {
    "name": "ipython",
    "version": 3
   },
   "file_extension": ".py",
   "mimetype": "text/x-python",
   "name": "python",
   "nbconvert_exporter": "python",
   "pygments_lexer": "ipython3",
   "version": "3.7.12"
  },
  "papermill": {
   "default_parameters": {},
   "duration": 14.471434,
   "end_time": "2022-05-15T08:41:00.558582",
   "environment_variables": {},
   "exception": null,
   "input_path": "__notebook__.ipynb",
   "output_path": "__notebook__.ipynb",
   "parameters": {},
   "start_time": "2022-05-15T08:40:46.087148",
   "version": "2.3.4"
  }
 },
 "nbformat": 4,
 "nbformat_minor": 5
}
